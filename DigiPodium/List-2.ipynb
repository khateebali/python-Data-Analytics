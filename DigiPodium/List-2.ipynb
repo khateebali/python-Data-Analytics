{
 "cells": [
  {
   "attachments": {},
   "cell_type": "markdown",
   "metadata": {},
   "source": [
    "#Random Library"
   ]
  },
  {
   "cell_type": "code",
   "execution_count": 1,
   "metadata": {},
   "outputs": [],
   "source": [
    "from random import randint\n"
   ]
  },
  {
   "cell_type": "code",
   "execution_count": 2,
   "metadata": {},
   "outputs": [
    {
     "name": "stdout",
     "output_type": "stream",
     "text": [
      "[43, 3, 24, 98, 79, 38, 63, 12, 33, 57, 79, 33, 14, 88, 65, 90, 9, 83, 12, 49, 54, 52, 97, 56, 12]\n"
     ]
    }
   ],
   "source": [
    "from random import randint\n",
    "x = []\n",
    "for i in range(25):\n",
    "    x.append(randint(1, 100))\n",
    "print(x)"
   ]
  },
  {
   "cell_type": "code",
   "execution_count": 3,
   "metadata": {},
   "outputs": [
    {
     "name": "stdout",
     "output_type": "stream",
     "text": [
      "[43, 3, 24, 98, 79, 38, 63, 12, 33, 57, 79, 33, 14, 88, 65, 90, 9, 83, 12, 49, 54, 52, 97, 56, 12]\n"
     ]
    }
   ],
   "source": [
    "val = 42\n",
    "if val in x:\n",
    "    x.remove(val)\n",
    "print(x)"
   ]
  },
  {
   "cell_type": "code",
   "execution_count": 4,
   "metadata": {},
   "outputs": [
    {
     "ename": "ValueError",
     "evalue": "78 is not in list",
     "output_type": "error",
     "traceback": [
      "\u001b[1;31m---------------------------------------------------------------------------\u001b[0m",
      "\u001b[1;31mValueError\u001b[0m                                Traceback (most recent call last)",
      "Cell \u001b[1;32mIn[4], line 1\u001b[0m\n\u001b[1;32m----> 1\u001b[0m x\u001b[39m.\u001b[39;49mindex(\u001b[39m78\u001b[39;49m)\n",
      "\u001b[1;31mValueError\u001b[0m: 78 is not in list"
     ]
    }
   ],
   "source": [
    "x.index(78)"
   ]
  },
  {
   "cell_type": "code",
   "execution_count": null,
   "metadata": {},
   "outputs": [
    {
     "data": {
      "text/plain": [
       "49"
      ]
     },
     "execution_count": 42,
     "metadata": {},
     "output_type": "execute_result"
    }
   ],
   "source": [
    "x.pop(11) # according to index 11"
   ]
  },
  {
   "cell_type": "code",
   "execution_count": null,
   "metadata": {},
   "outputs": [
    {
     "data": {
      "text/plain": [
       "66"
      ]
     },
     "execution_count": 44,
     "metadata": {},
     "output_type": "execute_result"
    }
   ],
   "source": [
    "x.pop() #last element"
   ]
  },
  {
   "cell_type": "code",
   "execution_count": null,
   "metadata": {},
   "outputs": [
    {
     "name": "stdout",
     "output_type": "stream",
     "text": [
      "[3, 4, 7, 11, 24, 39, 40, 45, 49, 51, 54, 63, 66, 71, 71, 76, 78, 97, 99]\n",
      "[99, 97, 78, 76, 71, 71, 66, 63, 54, 51, 49, 45, 40, 39, 24, 11, 7, 4, 3]\n"
     ]
    }
   ],
   "source": [
    "x.sort() #ascending order\n",
    "print(x)\n",
    "x.sort(reverse=True) #descending order\n",
    "print(x)"
   ]
  },
  {
   "cell_type": "code",
   "execution_count": null,
   "metadata": {},
   "outputs": [
    {
     "data": {
      "text/plain": [
       "2"
      ]
     },
     "execution_count": 59,
     "metadata": {},
     "output_type": "execute_result"
    }
   ],
   "source": [
    "x.count(1) #passing the value in the arg"
   ]
  },
  {
   "cell_type": "code",
   "execution_count": null,
   "metadata": {},
   "outputs": [
    {
     "data": {
      "text/plain": [
       "[99, 97, 78, 76, 71, 71, 66, 63, 54, 51, 49, 45, 40, 39, 24, 11, 7, 4, 3]"
      ]
     },
     "execution_count": 49,
     "metadata": {},
     "output_type": "execute_result"
    }
   ],
   "source": [
    "#copy() it will make a copy of the list\n",
    "\n",
    "x.copy()"
   ]
  },
  {
   "cell_type": "code",
   "execution_count": null,
   "metadata": {},
   "outputs": [
    {
     "name": "stdout",
     "output_type": "stream",
     "text": [
      "[1, 2, 4, 5, 6, 15]\n",
      "[1, 2, 4, 5, 6, 15]\n",
      "[1, 2, 3, 4, 5, 6, 10]\n",
      "True\n"
     ]
    }
   ],
   "source": [
    "X= [1,2,3,4,5,6]\n",
    "Y = X #will copy the refernce but it will not actually copy the list it will make the changes to the original list by making changes to anyassigned name(Ref)\n",
    "Z = X.copy() #deep copy and  the actually copy is created\n",
    "Y.append(15)\n",
    "X.remove(3)\n",
    "Z.append(10)\n",
    "\n",
    "print(X)\n",
    "print(Y)\n",
    "print(Z)\n",
    "\n",
    "print(X is Y)\n",
    "print(Y is Z)\n",
    "print(X is Z)\n"
   ]
  },
  {
   "cell_type": "code",
   "execution_count": null,
   "metadata": {},
   "outputs": [
    {
     "name": "stdout",
     "output_type": "stream",
     "text": [
      "[]\n"
     ]
    }
   ],
   "source": [
    "X.clear()\n",
    "print(X)"
   ]
  },
  {
   "attachments": {},
   "cell_type": "markdown",
   "metadata": {},
   "source": [
    "# Questions:\n",
    "\n",
    "- WAP to count all the number greater than 50 in a list of 100 elements\n",
    "\n",
    "\n"
   ]
  },
  {
   "cell_type": "code",
   "execution_count": null,
   "metadata": {},
   "outputs": [
    {
     "ename": "NameError",
     "evalue": "name 'randint' is not defined",
     "output_type": "error",
     "traceback": [
      "\u001b[1;31m---------------------------------------------------------------------------\u001b[0m",
      "\u001b[1;31mNameError\u001b[0m                                 Traceback (most recent call last)",
      "Cell \u001b[1;32mIn[2], line 3\u001b[0m\n\u001b[0;32m      1\u001b[0m x \u001b[39m=\u001b[39m []\n\u001b[0;32m      2\u001b[0m \u001b[39mfor\u001b[39;00m _ \u001b[39min\u001b[39;00m \u001b[39mrange\u001b[39m(\u001b[39m100\u001b[39m):\n\u001b[1;32m----> 3\u001b[0m     x\u001b[39m.\u001b[39mappend(randint(\u001b[39m1\u001b[39m,\u001b[39m100\u001b[39m))\n\u001b[0;32m      4\u001b[0m \u001b[39mprint\u001b[39m(x)\n",
      "\u001b[1;31mNameError\u001b[0m: name 'randint' is not defined"
     ]
    }
   ],
   "source": [
    "x = []\n",
    "for _ in range(100):\n",
    "    x.append(randint(1,100))\n",
    "print(x)"
   ]
  },
  {
   "cell_type": "code",
   "execution_count": null,
   "metadata": {},
   "outputs": [
    {
     "name": "stdout",
     "output_type": "stream",
     "text": [
      "[1, 1, 2, 2, 3, 3, 6, 6, 11, 11, 12, 12, 13, 13, 14, 18, 21, 24, 24, 24, 26, 26, 26, 27, 29, 29, 30, 33, 34, 34, 36, 36, 37, 37, 39, 40, 41, 41, 43, 43, 43, 43, 44, 46, 48, 49, 49, 49, 50, 50, 50, 51, 51, 52, 55, 55, 55, 56, 57, 59, 60, 60, 61, 62, 64, 64, 66, 66, 67, 67, 69, 70, 70, 71, 73, 75, 75, 76, 77, 80, 80, 81, 82, 82, 83, 84, 86, 86, 87, 88, 88, 89, 89, 91, 92, 94, 96, 98, 99, 99]\n",
      "We have 49 numbers > 50\n"
     ]
    }
   ],
   "source": [
    "x.sort()\n",
    "print(x)\n",
    "cnt = 0\n",
    "for i in x:\n",
    "    if i > 50:\n",
    "        cnt = cnt +1\n",
    "print(f'We have {cnt} numbers > 50')"
   ]
  },
  {
   "attachments": {},
   "cell_type": "markdown",
   "metadata": {},
   "source": [
    "#Question:\n",
    "\n",
    "- Add all thenumbers that are less than 25 ad display the results"
   ]
  },
  {
   "cell_type": "code",
   "execution_count": null,
   "metadata": {},
   "outputs": [
    {
     "name": "stdout",
     "output_type": "stream",
     "text": [
      "[93, 89, 88, 87, 81, 79, 79, 77, 76, 70, 63, 62, 58, 44, 43, 39, 38, 31, 31, 29, 27, 25, 24, 18, 18]\n",
      "sum is 60\n",
      "85\n"
     ]
    }
   ],
   "source": [
    "x.sort(reverse=True)\n",
    "print(x)\n",
    "sumx = 0\n",
    "for i in x:\n",
    "    if i < 25:\n",
    "        sumx = sumx + i\n",
    "print(f'sum is {sumx}')\n",
    "\n",
    "\n",
    "# this can be done as\n",
    "sub25 = [i for i in x if i <= 25]\n",
    "print(sum(sub25))"
   ]
  },
  {
   "attachments": {},
   "cell_type": "markdown",
   "metadata": {},
   "source": [
    "# List Comprehension\n",
    "nw_list = [ expr forloop cond]\n"
   ]
  },
  {
   "cell_type": "code",
   "execution_count": null,
   "metadata": {},
   "outputs": [
    {
     "name": "stdout",
     "output_type": "stream",
     "text": [
      "[11, 12, 13, 14, 15]\n",
      "[11, 12, 13, 14, 15]\n"
     ]
    }
   ],
   "source": [
    "#bogus method:\n",
    "x = [1,2,3,4,5]\n",
    "x2 = []\n",
    "for i in x:\n",
    "    x2.append(i + 10)\n",
    "print(x2)\n",
    "\n",
    "# list comprehension in single line\n",
    "x3 = [i+10 for i in x]\n",
    "print(x3)"
   ]
  },
  {
   "cell_type": "code",
   "execution_count": null,
   "metadata": {},
   "outputs": [
    {
     "name": "stdout",
     "output_type": "stream",
     "text": [
      "[54, 344, 55, 65, 78, 99]\n",
      "[55, 65, 99]\n",
      "[54, 344, 78]\n",
      "[55, 65, 99]\n"
     ]
    }
   ],
   "source": [
    "# Filter\n",
    "y = [54,344,55, 65, 78, 99]\n",
    "yodd = []\n",
    "yeven = []\n",
    "print(y)\n",
    "for i in y: #forloop\n",
    "    if i % 2 != 0: #condition\n",
    "        yodd.append(i) # operation\n",
    "    else:\n",
    "        yeven.append(i)\n",
    "print(yodd)\n",
    "print(yeven)\n",
    "\n",
    "yodd1= [i for i in y if i %2 != 0]\n",
    "print(yodd1)\n"
   ]
  },
  {
   "cell_type": "code",
   "execution_count": null,
   "metadata": {},
   "outputs": [
    {
     "name": "stdout",
     "output_type": "stream",
     "text": [
      "[1, 2, 3, 4, 5]\n",
      "[1, 8, 27, 64, 125]\n"
     ]
    }
   ],
   "source": [
    "xcubes = [i**3 for i in x]\n",
    "print(x)\n",
    "print(xcubes)"
   ]
  },
  {
   "attachments": {},
   "cell_type": "markdown",
   "metadata": {},
   "source": [
    "#Q\n",
    "\n",
    "Create a list of squares from only even number from 1 to 100"
   ]
  },
  {
   "cell_type": "code",
   "execution_count": 8,
   "metadata": {},
   "outputs": [
    {
     "name": "stdout",
     "output_type": "stream",
     "text": [
      "[78, 12, 80, 78, 52, 26, 76, 1, 71, 13, 68, 81, 48, 84, 2, 40, 80, 63, 51, 52, 53, 34, 99, 44, 86, 9, 23, 31, 82, 50, 93, 80, 32, 27, 79, 54, 83, 22, 88, 65, 64, 13, 16, 11, 89, 32, 50, 1, 89, 96, 24, 73, 41, 50, 3, 34, 16, 70, 36, 100, 47, 59, 84, 78, 64, 58, 61, 78, 69, 35, 57, 76, 37, 95, 69, 7, 54, 32, 33, 52, 7, 87, 30, 98, 30, 54, 60, 17, 60, 74, 16, 91, 1, 69, 83, 90, 43, 23, 71, 28, 34]\n"
     ]
    }
   ],
   "source": [
    "z = []\n",
    "for _ in range(101):\n",
    "    z.append(randint(1, 100))\n",
    "print(z)"
   ]
  },
  {
   "cell_type": "code",
   "execution_count": 13,
   "metadata": {},
   "outputs": [
    {
     "name": "stdout",
     "output_type": "stream",
     "text": [
      "[6084, 144, 6400, 6084, 2704, 676, 5776, 4624, 2304, 7056, 4, 1600, 6400, 2704, 1156, 1936, 7396, 6724, 2500, 6400, 1024, 2916, 484, 7744, 4096, 256, 1024, 2500, 9216, 576, 2500, 1156, 256, 4900, 1296, 10000, 7056, 6084, 4096, 3364, 6084, 5776, 2916, 1024, 2704, 900, 9604, 900, 2916, 3600, 3600, 5476, 256, 8100, 784, 1156]\n"
     ]
    }
   ],
   "source": [
    "zeven = []\n",
    "for i in z:\n",
    "    if i % 2 == 0:\n",
    "        zeven.append(i**2)\n",
    "print(zeven)"
   ]
  },
  {
   "cell_type": "code",
   "execution_count": 16,
   "metadata": {},
   "outputs": [
    {
     "name": "stdout",
     "output_type": "stream",
     "text": [
      "[6084, 144, 6400, 6084, 2704, 676, 5776, 4624, 2304, 7056, 4, 1600, 6400, 2704, 1156, 1936, 7396, 6724, 2500, 6400, 1024, 2916, 484, 7744, 4096, 256, 1024, 2500, 9216, 576, 2500, 1156, 256, 4900, 1296, 10000, 7056, 6084, 4096, 3364, 6084, 5776, 2916, 1024, 2704, 900, 9604, 900, 2916, 3600, 3600, 5476, 256, 8100, 784, 1156]\n"
     ]
    }
   ],
   "source": [
    "zeven1= [i**2 for i in z if i % 2 == 0]\n",
    "print(zeven1)"
   ]
  },
  {
   "cell_type": "code",
   "execution_count": null,
   "metadata": {},
   "outputs": [],
   "source": []
  }
 ],
 "metadata": {
  "kernelspec": {
   "display_name": "base",
   "language": "python",
   "name": "python3"
  },
  "language_info": {
   "codemirror_mode": {
    "name": "ipython",
    "version": 3
   },
   "file_extension": ".py",
   "mimetype": "text/x-python",
   "name": "python",
   "nbconvert_exporter": "python",
   "pygments_lexer": "ipython3",
   "version": "3.9.12 (main, Apr  4 2022, 05:22:27) [MSC v.1916 64 bit (AMD64)]"
  },
  "orig_nbformat": 4,
  "vscode": {
   "interpreter": {
    "hash": "19d1d53a962d236aa061289c2ac16dc8e6d9648c89fe79f459ae9a3493bc67b4"
   }
  }
 },
 "nbformat": 4,
 "nbformat_minor": 2
}
