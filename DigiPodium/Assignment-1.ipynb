{
 "cells": [
  {
   "cell_type": "code",
   "execution_count": 1,
   "metadata": {},
   "outputs": [
    {
     "name": "stdout",
     "output_type": "stream",
     "text": [
      "a occured 3  times\n",
      "e occured 2  times\n",
      "i occured 1  times\n",
      "o occured 2  times\n",
      "u occured 0  times\n"
     ]
    }
   ],
   "source": [
    "data = input(\"Enter something: \")\n",
    "for vowels in \"aeiou\":\n",
    "    cnt = data.lower().count(vowels)\n",
    "    print(f'{vowels} occured {cnt}  times')"
   ]
  },
  {
   "cell_type": "code",
   "execution_count": 2,
   "metadata": {},
   "outputs": [
    {
     "name": "stdout",
     "output_type": "stream",
     "text": [
      "12\n"
     ]
    }
   ],
   "source": [
    "# Word Counting:\n",
    "data = input (\"Enter Somethings:\")\n",
    "word_count = len(data.split())\n",
    "print(f'{word_count=}')"
   ]
  },
  {
   "cell_type": "code",
   "execution_count": 5,
   "metadata": {},
   "outputs": [
    {
     "name": "stdout",
     "output_type": "stream",
     "text": [
      "a = 5\n",
      "s = 5\n",
      "d = 6\n",
      "f = 6\n",
      "g = 9\n",
      "h = 13\n",
      "j = 10\n",
      "k = 7\n",
      "l = 3\n",
      "; = 1\n",
      "j = 10\n",
      "h = 13\n",
      "g = 9\n",
      "d = 6\n",
      "s = 5\n",
      "a = 5\n",
      "f = 6\n",
      "g = 9\n",
      "h = 13\n",
      "j = 10\n",
      "k = 7\n",
      "h = 13\n",
      "g = 9\n",
      "f = 6\n",
      "d = 6\n",
      "f = 6\n",
      "g = 9\n",
      "h = 13\n",
      "n = 6\n",
      "m = 2\n",
      "b = 6\n",
      "v = 3\n",
      "c = 3\n",
      "x = 3\n",
      "f = 6\n",
      "d = 6\n",
      "r = 4\n",
      "t = 3\n",
      "y = 4\n",
      "u = 5\n",
      "h = 13\n",
      "j = 10\n",
      "b = 6\n",
      "v = 3\n",
      "c = 3\n",
      "x = 3\n",
      "d = 6\n",
      "s = 5\n",
      "e = 4\n",
      "r = 4\n",
      "t = 3\n",
      "y = 4\n",
      "g = 9\n",
      "h = 13\n",
      "j = 10\n",
      "b = 6\n",
      "n = 6\n",
      "v = 3\n",
      "c = 3\n",
      "x = 3\n",
      "z = 1\n",
      "s = 5\n",
      "a = 5\n",
      "w = 2\n",
      "e = 4\n",
      "r = 4\n",
      "s = 5\n",
      "e = 4\n",
      "a = 5\n",
      "w = 2\n",
      "q = 1\n",
      "e = 4\n",
      "a = 5\n",
      "r = 4\n",
      "d = 6\n",
      "f = 6\n",
      "t = 3\n",
      "y = 4\n",
      "u = 5\n",
      "g = 9\n",
      "h = 13\n",
      "h = 13\n",
      "j = 10\n",
      "k = 7\n",
      "n = 6\n",
      "b = 6\n",
      "h = 13\n",
      "g = 9\n",
      "u = 5\n",
      "i = 4\n",
      "j = 10\n",
      "k = 7\n",
      "n = 6\n",
      "b = 6\n",
      "j = 10\n",
      "h = 13\n",
      "i = 4\n",
      "j = 10\n",
      "k = 7\n",
      "n = 6\n",
      "j = 10\n",
      "h = 13\n",
      "u = 5\n",
      "i = 4\n",
      "o = 2\n",
      "k = 7\n",
      "l = 3\n",
      "m = 2\n",
      "n = 6\n",
      "b = 6\n",
      "h = 13\n",
      "g = 9\n",
      "y = 4\n",
      "u = 5\n",
      "i = 4\n",
      "o = 2\n",
      "k = 7\n",
      "l = 3\n",
      ", = 1\n",
      "h => 13x\n"
     ]
    }
   ],
   "source": [
    "# Character with max occuring:\n",
    "data = input(\"Enter something:\")\n",
    "mx = ''#blank string\n",
    "cnt= 0\n",
    "for char in data:\n",
    "    count = data.count(char)\n",
    "    print (f'{char} = {count}')\n",
    "    if count > cnt:\n",
    "        mx = char\n",
    "        cnt = count\n",
    "print(f'{mx} => {cnt}x')"
   ]
  },
  {
   "cell_type": "code",
   "execution_count": 6,
   "metadata": {},
   "outputs": [
    {
     "name": "stdout",
     "output_type": "stream",
     "text": [
      "sdfgh233456d5t!@#$%%$#@#$%&I*DUTDCGDTE#$^#%&$U^%\n",
      "sdfgh233456d5tIDUTDCGDTEU\n"
     ]
    }
   ],
   "source": [
    "from string import punctuation\n",
    "data= input(\"Enter Any thing:\")\n",
    "print(data)\n",
    "for char in punctuation:\n",
    "    data = data.replace(char, \"\")\n",
    "print(data)"
   ]
  },
  {
   "cell_type": "code",
   "execution_count": null,
   "metadata": {},
   "outputs": [],
   "source": []
  }
 ],
 "metadata": {
  "kernelspec": {
   "display_name": "base",
   "language": "python",
   "name": "python3"
  },
  "language_info": {
   "codemirror_mode": {
    "name": "ipython",
    "version": 3
   },
   "file_extension": ".py",
   "mimetype": "text/x-python",
   "name": "python",
   "nbconvert_exporter": "python",
   "pygments_lexer": "ipython3",
   "version": "3.9.12"
  },
  "orig_nbformat": 4,
  "vscode": {
   "interpreter": {
    "hash": "19d1d53a962d236aa061289c2ac16dc8e6d9648c89fe79f459ae9a3493bc67b4"
   }
  }
 },
 "nbformat": 4,
 "nbformat_minor": 2
}
