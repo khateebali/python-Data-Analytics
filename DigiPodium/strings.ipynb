{
 "cells": [
  {
   "attachments": {},
   "cell_type": "markdown",
   "metadata": {},
   "source": [
    "# Basics"
   ]
  },
  {
   "cell_type": "code",
   "execution_count": 9,
   "metadata": {},
   "outputs": [
    {
     "name": "stdout",
     "output_type": "stream",
     "text": [
      "this is \"some kind\" of message\n",
      "This is one license\n",
      "This is different line \n",
      "This is last line\n",
      "This is two license\n",
      "This is different linesssss \n",
      "This is last line bgbbg\n"
     ]
    }
   ],
   "source": [
    "a = 'Hello' #string\n",
    "a = \"Hello\" #string\n",
    "word = 'this is \"some kind\" of message'\n",
    "print(word)\n",
    "#multiline string\n",
    "message = \"\"\"This is one license\n",
    "This is different line \n",
    "This is last line\"\"\"\n",
    "message2 = '''This is two license\n",
    "This is different linesssss \n",
    "This is last line bgbbg'''\n",
    "\n",
    "print(message)\n",
    "print(message2)"
   ]
  },
  {
   "cell_type": "code",
   "execution_count": 11,
   "metadata": {},
   "outputs": [
    {
     "name": "stdout",
     "output_type": "stream",
     "text": [
      "this is john\n",
      "this is \\n a \\n raw \\n string\n",
      "\"D:\\Pictures Onplus\\Camera\\IMG_20210511_171414.jpg\"\n",
      "b'Hello'\n"
     ]
    }
   ],
   "source": [
    "name ='john'\n",
    "message = f'this is {name}' # formattable string\n",
    "raw_string=r'this is \\n a \\n raw \\n string'\n",
    "address = r'\"D:\\Pictures Onplus\\Camera\\IMG_20210511_171414.jpg\"'\n",
    "print(message)\n",
    "print(raw_string)\n",
    "print(address)\n",
    "\n",
    "binary_string= b'Hello' #bytestring\n",
    "print(binary_string)\n",
    "\n"
   ]
  },
  {
   "attachments": {},
   "cell_type": "markdown",
   "metadata": {},
   "source": [
    "# string duplication"
   ]
  },
  {
   "cell_type": "code",
   "execution_count": 13,
   "metadata": {},
   "outputs": [
    {
     "name": "stdout",
     "output_type": "stream",
     "text": [
      "++++++++++++++\n"
     ]
    }
   ],
   "source": [
    "\"___\"*15\n",
    "print(\"+\"*14)"
   ]
  },
  {
   "attachments": {},
   "cell_type": "markdown",
   "metadata": {},
   "source": [
    "# String Properties:"
   ]
  },
  {
   "attachments": {},
   "cell_type": "markdown",
   "metadata": {},
   "source": [
    "1. Strings are indexed\n",
    "2. Strings are immutable\n",
    "3. String are iterable"
   ]
  },
  {
   "cell_type": "code",
   "execution_count": 23,
   "metadata": {},
   "outputs": [
    {
     "name": "stdout",
     "output_type": "stream",
     "text": [
      "11\n",
      "t\n",
      "l\n",
      "K h a e\n",
      "K\n"
     ]
    }
   ],
   "source": [
    "name =\"Khateeb Ali\"\n",
    "print(len(name))\n",
    "print(name[3]) #3rd element\n",
    "print(name[-2]) #second last element\n",
    "\n",
    "print(name[0], name[1], name[2], name[-6])\n",
    "print(name[-11]) #first element\n",
    "\n",
    "#wrong things to do while usingindexing in strings:\n",
    "\n",
    "#print(name[11]) #{string index out of range}\n",
    "#print(name=[10]) #name' is an invalid keyword argument for print()"
   ]
  },
  {
   "cell_type": "code",
   "execution_count": 26,
   "metadata": {},
   "outputs": [],
   "source": [
    "# immutability:\n",
    "\n",
    "# name[1]='f' \n",
    "# ###'str' object does not support item assignment\n",
    "#because string do not support assignment, and will no replce any index value"
   ]
  },
  {
   "attachments": {},
   "cell_type": "markdown",
   "metadata": {},
   "source": [
    "# Slicing:\n",
    "str[start : end : step]"
   ]
  },
  {
   "cell_type": "code",
   "execution_count": 33,
   "metadata": {},
   "outputs": [
    {
     "name": "stdout",
     "output_type": "stream",
     "text": [
      "S\n",
      "Shake\n",
      "Will\n",
      "pear\n",
      "William\n"
     ]
    }
   ],
   "source": [
    "name =\"William Shakespeare\"\n",
    "print(name[8])\n",
    "print(name[8:13]) #slicing\n",
    "print(name[0:4])\n",
    "print(name[-5:-1])#pear\n",
    "print(name[:7]) # from start to 7th Index"
   ]
  },
  {
   "cell_type": "code",
   "execution_count": 43,
   "metadata": {},
   "outputs": [
    {
     "name": "stdout",
     "output_type": "stream",
     "text": [
      "Journey \n",
      "nation\n",
      "Before\n",
      "Before\n",
      "Journey Before nation\n",
      "Destinatio\n"
     ]
    }
   ],
   "source": [
    "sentence =\"Journey Before Destination\"\n",
    "print(sentence[:8])\n",
    "print(sentence[-6:])\n",
    "print(sentence[8:14])\n",
    "print(sentence[8:14])\n",
    "print(sentence[:7],sentence[8:14],sentence[-6:])\n",
    "print(sentence[15:-1])"
   ]
  },
  {
   "cell_type": "code",
   "execution_count": 46,
   "metadata": {},
   "outputs": [
    {
     "name": "stdout",
     "output_type": "stream",
     "text": [
      "Eys\n",
      "ulpu\n",
      "sutpylcuE\n"
     ]
    }
   ],
   "source": [
    "word = \"Euclyptus\"\n",
    "print(word[::4]) #step size(only even indexed element)\n",
    "print(word[1::2]) # step size (odd indexed elements)\n",
    "print(word[::-1]) # reverse the string (this is most powerfull)"
   ]
  },
  {
   "cell_type": "code",
   "execution_count": 47,
   "metadata": {},
   "outputs": [
    {
     "data": {
      "text/plain": [
       "'sutpylcuE'"
      ]
     },
     "execution_count": 47,
     "metadata": {},
     "output_type": "execute_result"
    }
   ],
   "source": [
    "\"\".join(list(reversed(word)))"
   ]
  },
  {
   "cell_type": "code",
   "execution_count": 49,
   "metadata": {},
   "outputs": [
    {
     "name": "stdout",
     "output_type": "stream",
     "text": [
      "1000000.00\n"
     ]
    }
   ],
   "source": [
    "amount = \"$1000000.00\"\n",
    "amount = amount[1:]\n",
    "print(amount)"
   ]
  },
  {
   "cell_type": "code",
   "execution_count": 53,
   "metadata": {},
   "outputs": [
    {
     "name": "stdout",
     "output_type": "stream",
     "text": [
      " Khateeb\n",
      " Ali\n"
     ]
    }
   ],
   "source": [
    "name = \"Dr. Khateeb Ali\"\n",
    "firstname=name[3:11]\n",
    "lastname=name[11:]\n",
    "print(firstname)\n",
    "print(lastname)"
   ]
  },
  {
   "cell_type": "code",
   "execution_count": 56,
   "metadata": {},
   "outputs": [
    {
     "name": "stdout",
     "output_type": "stream",
     "text": [
      "Pyhton\n"
     ]
    }
   ],
   "source": [
    "word = '__Pyhton__'\n",
    "word= word[2:-2] # skip 1stwo and last two\n",
    "print(word)"
   ]
  },
  {
   "cell_type": "code",
   "execution_count": null,
   "metadata": {},
   "outputs": [],
   "source": [
    "   "
   ]
  }
 ],
 "metadata": {
  "kernelspec": {
   "display_name": "base",
   "language": "python",
   "name": "python3"
  },
  "language_info": {
   "codemirror_mode": {
    "name": "ipython",
    "version": 3
   },
   "file_extension": ".py",
   "mimetype": "text/x-python",
   "name": "python",
   "nbconvert_exporter": "python",
   "pygments_lexer": "ipython3",
   "version": "3.9.12 (main, Apr  4 2022, 05:22:27) [MSC v.1916 64 bit (AMD64)]"
  },
  "orig_nbformat": 4,
  "vscode": {
   "interpreter": {
    "hash": "19d1d53a962d236aa061289c2ac16dc8e6d9648c89fe79f459ae9a3493bc67b4"
   }
  }
 },
 "nbformat": 4,
 "nbformat_minor": 2
}
