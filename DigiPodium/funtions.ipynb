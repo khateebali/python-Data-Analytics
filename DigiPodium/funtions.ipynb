{
 "cells": [
  {
   "attachments": {},
   "cell_type": "markdown",
   "metadata": {},
   "source": [
    "# function in string\n",
    "1. formatting\n",
    "2. find and replace\n",
    "3. validation\n",
    "4. utilities\n"
   ]
  },
  {
   "cell_type": "code",
   "execution_count": 1,
   "metadata": {},
   "outputs": [
    {
     "data": {
      "text/plain": [
       "'TOMATO IS A FRUIT'"
      ]
     },
     "execution_count": 1,
     "metadata": {},
     "output_type": "execute_result"
    }
   ],
   "source": [
    "word = \"Tomato is a fruit\"\n",
    "word.upper()"
   ]
  },
  {
   "cell_type": "code",
   "execution_count": 2,
   "metadata": {},
   "outputs": [
    {
     "name": "stdout",
     "output_type": "stream",
     "text": [
      "TOMATO IS A FRUIT\n"
     ]
    }
   ],
   "source": [
    "word = word.upper()\n",
    "print(word)"
   ]
  },
  {
   "cell_type": "code",
   "execution_count": 6,
   "metadata": {},
   "outputs": [
    {
     "name": "stdout",
     "output_type": "stream",
     "text": [
      "tomato is a fruit\n",
      "Tomato Is A Fruit\n",
      "tomato is a fruit\n",
      "tomato is a fruit\n",
      "Tomato is a fruit\n",
      "hEllO\n",
      "hello\n"
     ]
    }
   ],
   "source": [
    "print(word.lower())\n",
    "print(word.title())\n",
    "print(word.casefold())\n",
    "print(word.swapcase())\n",
    "print(word.capitalize())\n",
    "print(\"HeLLo\".swapcase())\n",
    "print(\"HeLLo\".casefold())# tO "
   ]
  },
  {
   "cell_type": "code",
   "execution_count": 8,
   "metadata": {},
   "outputs": [
    {
     "data": {
      "text/plain": [
       "7"
      ]
     },
     "execution_count": 8,
     "metadata": {},
     "output_type": "execute_result"
    }
   ],
   "source": [
    "#To check the inde f any character we can use find(),rfind()reversefind\n",
    "\n",
    "word.find('IS')"
   ]
  },
  {
   "cell_type": "code",
   "execution_count": 14,
   "metadata": {},
   "outputs": [
    {
     "name": "stdout",
     "output_type": "stream",
     "text": [
      "We are having a \n"
     ]
    }
   ],
   "source": [
    "shabdh = \"We are having a very important meeting\"\n",
    "v_idx = shabdh.find('very')\n",
    "print(shabdh[:v_idx])"
   ]
  },
  {
   "cell_type": "code",
   "execution_count": 16,
   "metadata": {},
   "outputs": [
    {
     "name": "stdout",
     "output_type": "stream",
     "text": [
      "We are having a very boring meeting\n"
     ]
    }
   ],
   "source": [
    "word.replace(\"IS\", \"was\")\n",
    "shabdh= shabdh.replace(\"important\", \"boring\")\n",
    "print(shabdh)"
   ]
  },
  {
   "cell_type": "code",
   "execution_count": 22,
   "metadata": {},
   "outputs": [
    {
     "name": "stdout",
     "output_type": "stream",
     "text": [
      "c c ab a b abc\n"
     ]
    }
   ],
   "source": [
    "data= \"a b a b ab a b abc\"\n",
    "data = data.replace('a b', 'c', 2) # 2 represents the number of replacements\n",
    "print(data)"
   ]
  },
  {
   "attachments": {},
   "cell_type": "markdown",
   "metadata": {},
   "source": [
    "# VAlidations"
   ]
  },
  {
   "cell_type": "code",
   "execution_count": 25,
   "metadata": {},
   "outputs": [
    {
     "name": "stdout",
     "output_type": "stream",
     "text": [
      "Invalid input\n"
     ]
    }
   ],
   "source": [
    "x = '10000a'\n",
    "if x.isnumeric():\n",
    "    x = int(x)\n",
    "else:\n",
    "    print('Invalid input')\n"
   ]
  },
  {
   "cell_type": "code",
   "execution_count": 26,
   "metadata": {},
   "outputs": [
    {
     "name": "stdout",
     "output_type": "stream",
     "text": [
      "Invalid\n"
     ]
    }
   ],
   "source": [
    "Firstname =\"Khateeb\"\n",
    "lastname =\"khan007\"\n",
    "if (Firstname and lastname).isalpha():\n",
    "    print(\"Valid\")\n",
    "else:\n",
    "    print(\"Invalid\")"
   ]
  },
  {
   "cell_type": "code",
   "execution_count": 27,
   "metadata": {},
   "outputs": [
    {
     "name": "stdout",
     "output_type": "stream",
     "text": [
      "you are a doctor\n"
     ]
    }
   ],
   "source": [
    "name = \"Dr. Khateeb Khan\"\n",
    "if name.startswith(\"Dr\"):\n",
    "    print('you are a doctor')\n",
    "elif name.endswith(\"Khan\"):\n",
    "    print(\"You are a pathan\")\n",
    "else:\n",
    "    print(\"Who are you ?\")"
   ]
  },
  {
   "cell_type": "code",
   "execution_count": null,
   "metadata": {},
   "outputs": [],
   "source": []
  }
 ],
 "metadata": {
  "kernelspec": {
   "display_name": "base",
   "language": "python",
   "name": "python3"
  },
  "language_info": {
   "codemirror_mode": {
    "name": "ipython",
    "version": 3
   },
   "file_extension": ".py",
   "mimetype": "text/x-python",
   "name": "python",
   "nbconvert_exporter": "python",
   "pygments_lexer": "ipython3",
   "version": "3.9.12"
  },
  "orig_nbformat": 4,
  "vscode": {
   "interpreter": {
    "hash": "19d1d53a962d236aa061289c2ac16dc8e6d9648c89fe79f459ae9a3493bc67b4"
   }
  }
 },
 "nbformat": 4,
 "nbformat_minor": 2
}
