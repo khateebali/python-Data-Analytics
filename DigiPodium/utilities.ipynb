{
 "cells": [
  {
   "attachments": {},
   "cell_type": "markdown",
   "metadata": {},
   "source": [
    "# Utilities:\n",
    "1. count\n",
    "2. strip\n",
    "3. split\n",
    "4. join"
   ]
  },
  {
   "cell_type": "code",
   "execution_count": 1,
   "metadata": {},
   "outputs": [
    {
     "name": "stdout",
     "output_type": "stream",
     "text": [
      "p occured  9 times\n"
     ]
    }
   ],
   "source": [
    "msg2 =\" peter piper picked a peck of pickled peppers\"\n",
    "cp = msg2. count('p')\n",
    "print(f'p occured  {cp} times')"
   ]
  },
  {
   "cell_type": "code",
   "execution_count": 4,
   "metadata": {},
   "outputs": [
    {
     "name": "stdout",
     "output_type": "stream",
     "text": [
      "h\n",
      "e\n",
      "l\n",
      "l\n",
      "o\n",
      " \n",
      "w\n",
      "o\n",
      "r\n",
      "l\n",
      "d\n"
     ]
    }
   ],
   "source": [
    "for w in \"hello world\": # we are definging w as a empty variable in the loop itself as its the loop variable\n",
    "    print(w)"
   ]
  },
  {
   "cell_type": "code",
   "execution_count": 2,
   "metadata": {},
   "outputs": [
    {
     "name": "stdout",
     "output_type": "stream",
     "text": [
      "a 1\n",
      "b 0\n",
      "c 3\n",
      "d 2\n",
      "e 8\n",
      "f 1\n",
      "g 0\n",
      "h 0\n",
      "i 3\n",
      "j 0\n",
      "k 3\n",
      "l 1\n",
      "m 0\n",
      "n 0\n",
      "o 1\n",
      "p 9\n",
      "q 0\n",
      "r 3\n",
      "s 1\n",
      "t 1\n",
      "u 0\n",
      "v 0\n",
      "w 0\n",
      "x 0\n",
      "y 0\n",
      "z 0\n"
     ]
    }
   ],
   "source": [
    "from string import ascii_lowercase\n",
    "for letter in ascii_lowercase:\n",
    "    print(letter, msg2.count(letter)) # check how many times the letter is used in a sentence"
   ]
  },
  {
   "cell_type": "code",
   "execution_count": 6,
   "metadata": {},
   "outputs": [
    {
     "name": "stdout",
     "output_type": "stream",
     "text": [
      "a occured 1 times\n",
      "c occured 3 times\n",
      "d occured 2 times\n",
      "e occured 8 times\n",
      "f occured 1 times\n",
      "i occured 3 times\n",
      "k occured 3 times\n",
      "l occured 1 times\n",
      "o occured 1 times\n",
      "p occured 9 times\n",
      "r occured 3 times\n",
      "s occured 1 times\n",
      "t occured 1 times\n"
     ]
    }
   ],
   "source": [
    "# count only the letters which are present and exclude which i not !\n",
    "for i in ascii_lowercase:\n",
    "    c = msg2.count(i)\n",
    "    if c > 0:\n",
    "        print(f'{i} occured {c} times')"
   ]
  },
  {
   "cell_type": "code",
   "execution_count": 7,
   "metadata": {},
   "outputs": [
    {
     "name": "stdout",
     "output_type": "stream",
     "text": [
      "word='Ola Amigos               ' & length = 25\n"
     ]
    }
   ],
   "source": [
    "word = 'Ola Amigos               ' # this is a mistake and the length  will be incorrect\n",
    "print(f'{word=} & length = {len(word)}')"
   ]
  },
  {
   "cell_type": "code",
   "execution_count": 8,
   "metadata": {},
   "outputs": [],
   "source": [
    "#The above example shows we need to use strip"
   ]
  },
  {
   "attachments": {},
   "cell_type": "markdown",
   "metadata": {},
   "source": [
    "# Strip:\n"
   ]
  },
  {
   "cell_type": "code",
   "execution_count": 10,
   "metadata": {},
   "outputs": [],
   "source": [
    "word = word .strip() # strip is used to remove white spaces(cleaning the white spaces)\n",
    "\n",
    "print(f'{word=} & length = {len(word)}')"
   ]
  },
  {
   "cell_type": "code",
   "execution_count": 15,
   "metadata": {},
   "outputs": [
    {
     "data": {
      "text/plain": [
       "'\\nRaju    \\n\\n'"
      ]
     },
     "execution_count": 15,
     "metadata": {},
     "output_type": "execute_result"
    }
   ],
   "source": [
    "\"\"\"To overcome these leading and trailing white spaces and special character we use strip \n",
    "to clean the user input or while scrapping \"\"\"\n",
    "a = '''\n",
    "Raju    \n",
    "\n",
    "'''\n",
    "\n",
    "a"
   ]
  },
  {
   "cell_type": "code",
   "execution_count": 17,
   "metadata": {},
   "outputs": [
    {
     "name": "stdout",
     "output_type": "stream",
     "text": [
      "\n",
      "Raju    \n",
      "\n",
      " 11\n",
      "Raju 4\n"
     ]
    }
   ],
   "source": [
    "print(a, len(a))\n",
    "a = a.strip()\n",
    "print(a, len(a))"
   ]
  },
  {
   "attachments": {},
   "cell_type": "markdown",
   "metadata": {},
   "source": [
    "## Left strip and Right strip:"
   ]
  },
  {
   "cell_type": "code",
   "execution_count": 20,
   "metadata": {},
   "outputs": [
    {
     "name": "stdout",
     "output_type": "stream",
     "text": [
      "     Khateeb       18\n",
      "Khateeb 7\n",
      "Khateeb       13\n",
      "     Khateeb 12\n"
     ]
    }
   ],
   "source": [
    "name = input(\"enter name:\")\n",
    "print(name, len(name))\n",
    "print(name.strip(), len(name.strip()))\n",
    "print(name.lstrip(), len(name.lstrip()))\n",
    "print(name.rstrip(), len(name.rstrip()))\n",
    "      "
   ]
  },
  {
   "cell_type": "code",
   "execution_count": 24,
   "metadata": {},
   "outputs": [
    {
     "name": "stdout",
     "output_type": "stream",
     "text": [
      "Al ex\n",
      "John\n",
      "Mary\n",
      "sam\n",
      "Tom\n"
     ]
    }
   ],
   "source": [
    "dirty_data = ['Al ex', '      John', '  Mary  ', '   sam      ','Tom    ']\n",
    "for name in dirty_data:\n",
    "    print(name.strip())"
   ]
  },
  {
   "cell_type": "code",
   "execution_count": 35,
   "metadata": {},
   "outputs": [
    {
     "name": "stdout",
     "output_type": "stream",
     "text": [
      "8\n",
      "['There', 'is', 'a', 'place', 'with', 'a', 'very', 'long', 'name'] 9\n"
     ]
    }
   ],
   "source": [
    "msg = \"There is a place with a very long name\"\n",
    "print(msg.count(\" \"))\n",
    "words = msg.split() # by default its takes as white space as a delimiter or sepreator\n",
    "print(words, len(words))"
   ]
  },
  {
   "cell_type": "code",
   "execution_count": 32,
   "metadata": {},
   "outputs": [
    {
     "data": {
      "text/plain": [
       "['ALpha', 'Beta', ' Gama', ' Epsilon', ' Delta']"
      ]
     },
     "execution_count": 32,
     "metadata": {},
     "output_type": "execute_result"
    }
   ],
   "source": [
    "msg2 = \"ALpha,Beta, Gama, Epsilon, Delta\"\n",
    "msg2.split(',')"
   ]
  },
  {
   "cell_type": "code",
   "execution_count": 36,
   "metadata": {},
   "outputs": [
    {
     "name": "stdout",
     "output_type": "stream",
     "text": [
      "['This is sparta', 'This is Lucknow', 'This is Delhi']\n"
     ]
    }
   ],
   "source": [
    "msg3 = 'This is sparta. This is Lucknow. This is Delhi'\n",
    "print(msg3.split('. '))"
   ]
  },
  {
   "cell_type": "code",
   "execution_count": 40,
   "metadata": {},
   "outputs": [
    {
     "name": "stdout",
     "output_type": "stream",
     "text": [
      "['Hi', 'there', 'how', 'are', 'you?']\n",
      "Hi there how are you?\n"
     ]
    }
   ],
   "source": [
    "#Join : it joins the sequence of string \n",
    "words = ['Hi','there', 'how', 'are', 'you' '?']\n",
    "print(words)\n",
    "\n",
    "\n",
    "#list can not be type cast\n",
    "#if you want to make it in a string then use join\n",
    "\n",
    "msg = ' '.join(words)\n",
    "print(msg)"
   ]
  },
  {
   "cell_type": "code",
   "execution_count": null,
   "metadata": {},
   "outputs": [],
   "source": []
  }
 ],
 "metadata": {
  "kernelspec": {
   "display_name": "base",
   "language": "python",
   "name": "python3"
  },
  "language_info": {
   "codemirror_mode": {
    "name": "ipython",
    "version": 3
   },
   "file_extension": ".py",
   "mimetype": "text/x-python",
   "name": "python",
   "nbconvert_exporter": "python",
   "pygments_lexer": "ipython3",
   "version": "3.9.12 (main, Apr  4 2022, 05:22:27) [MSC v.1916 64 bit (AMD64)]"
  },
  "orig_nbformat": 4,
  "vscode": {
   "interpreter": {
    "hash": "19d1d53a962d236aa061289c2ac16dc8e6d9648c89fe79f459ae9a3493bc67b4"
   }
  }
 },
 "nbformat": 4,
 "nbformat_minor": 2
}
