{
 "cells": [
  {
   "attachments": {},
   "cell_type": "markdown",
   "metadata": {},
   "source": [
    "# Data Dtructures:\n",
    "\n",
    "1. String:\n",
    "2. List\n",
    "3. tuples\n",
    "4. set\n",
    "5. dictonary"
   ]
  },
  {
   "attachments": {},
   "cell_type": "markdown",
   "metadata": {},
   "source": [
    "List :\n",
    "-> ordered, indexed, mutable, allows duplicate elements\n",
    "-> heterogeneous (Mixed types of values can be stored)\n",
    "-> can be nested"
   ]
  },
  {
   "attachments": {},
   "cell_type": "markdown",
   "metadata": {},
   "source": [
    "create access modify"
   ]
  },
  {
   "cell_type": "code",
   "execution_count": 82,
   "metadata": {},
   "outputs": [
    {
     "name": "stdout",
     "output_type": "stream",
     "text": [
      "[] []\n",
      "<class 'list'> <class 'list'>\n"
     ]
    }
   ],
   "source": [
    "x = [] #empty list\n",
    "y =list() #empty list\n",
    "print(x,y)\n",
    "print(type(x), type(y))\n"
   ]
  },
  {
   "cell_type": "code",
   "execution_count": 83,
   "metadata": {},
   "outputs": [
    {
     "name": "stdout",
     "output_type": "stream",
     "text": [
      "[1, 2, 3, 4, 5] ['ajay', 'vijay', 'sanjay']\n"
     ]
    }
   ],
   "source": [
    "x = [1,2,3,4,5] #list of umbers\n",
    "names = ['ajay', 'vijay', 'sanjay']\n",
    "print(x, names)"
   ]
  },
  {
   "cell_type": "code",
   "execution_count": 84,
   "metadata": {},
   "outputs": [
    {
     "name": "stdout",
     "output_type": "stream",
     "text": [
      "['Apple', 100, 'Banan', 40, 'Oranges', 50]\n"
     ]
    }
   ],
   "source": [
    "mixed = ['Apple', 100, 'Banan', 40, 'Oranges', 50]\n",
    "print(mixed)"
   ]
  },
  {
   "cell_type": "code",
   "execution_count": 85,
   "metadata": {},
   "outputs": [
    {
     "name": "stdout",
     "output_type": "stream",
     "text": [
      "[1, 1, 1, 1, 1, 1, 1, 1, 1, 1]\n"
     ]
    }
   ],
   "source": [
    "ones = [1] * 10 #duplicate 1 10 ties and store in list\n",
    "print(ones)"
   ]
  },
  {
   "cell_type": "code",
   "execution_count": 86,
   "metadata": {},
   "outputs": [
    {
     "name": "stdout",
     "output_type": "stream",
     "text": [
      "['H', 'o', 'm', 'o', 's', 'a', 'p', 'i', 'e', 'n', 's']\n"
     ]
    }
   ],
   "source": [
    "word  = 'Homosapiens'\n",
    "chrs = list(word)\n",
    "print(chrs)"
   ]
  },
  {
   "cell_type": "code",
   "execution_count": 87,
   "metadata": {},
   "outputs": [
    {
     "name": "stdout",
     "output_type": "stream",
     "text": [
      "1\n",
      "2\n",
      "3\n",
      "4\n",
      "5\n"
     ]
    }
   ],
   "source": [
    "for i in x:\n",
    "    print(i)"
   ]
  },
  {
   "cell_type": "code",
   "execution_count": 88,
   "metadata": {},
   "outputs": [
    {
     "name": "stdout",
     "output_type": "stream",
     "text": [
      "101\n",
      "102\n",
      "103\n",
      "104\n",
      "105\n"
     ]
    }
   ],
   "source": [
    "for i in x:\n",
    "    print(i+100)"
   ]
  },
  {
   "cell_type": "code",
   "execution_count": 89,
   "metadata": {},
   "outputs": [
    {
     "name": "stdout",
     "output_type": "stream",
     "text": [
      "['steelheart', 'MarkTwen', 'Tesla']\n"
     ]
    }
   ],
   "source": [
    " #we can modify a List as its mutable\n",
    "books = ['Aristotle','MarkTwen','Tesla']\n",
    "books[0]\n",
    "books[0]='steelheart'\n",
    "print(books)"
   ]
  },
  {
   "attachments": {},
   "cell_type": "markdown",
   "metadata": {},
   "source": [
    "#Functions()or Method\n",
    "- list_var.apppend(single_element) #add at the end of the list\n",
    "- list_var.remove(single_element)"
   ]
  },
  {
   "cell_type": "code",
   "execution_count": 90,
   "metadata": {},
   "outputs": [
    {
     "name": "stdout",
     "output_type": "stream",
     "text": [
      "['steelheart', 'MarkTwen', 'Tesla', 'The Hero of Ages']\n"
     ]
    }
   ],
   "source": [
    "books.append(\"The Hero of Ages\")\n",
    "print(books)\n"
   ]
  },
  {
   "cell_type": "code",
   "execution_count": 91,
   "metadata": {},
   "outputs": [
    {
     "name": "stdout",
     "output_type": "stream",
     "text": [
      "['steelheart', 'MarkTwen', 'Tesla']\n"
     ]
    }
   ],
   "source": [
    "books.remove(\"The Hero of Ages\") # Remove first occurence of Values\n",
    "print(books)"
   ]
  },
  {
   "cell_type": "code",
   "execution_count": 92,
   "metadata": {},
   "outputs": [
    {
     "name": "stdout",
     "output_type": "stream",
     "text": [
      "['lionheart', 'Satya', 'The Message', 'Pakeezah', 'Mughleazam', 'Ghazal', 'Dosti', 'Raktchritr', 'Ocean11', 'Die Hard', 'Misl Yousuf', 'Pathan', 'Dark Knight', 'GodFather']\n"
     ]
    }
   ],
   "source": [
    "movies='''lionheart,Satya,The Message,Pakeezah,Mughleazam,Ghazal,Dosti,Raktchritr,Ocean11,Die Hard,Misl Yousuf,Pathan,Dark Knight,GodFather'''\n",
    "movies= movies.split(',')\n",
    "print(movies)\n"
   ]
  },
  {
   "cell_type": "code",
   "execution_count": 93,
   "metadata": {},
   "outputs": [
    {
     "data": {
      "text/plain": [
       "['lionheart', 'Satya', 'The Message']"
      ]
     },
     "execution_count": 93,
     "metadata": {},
     "output_type": "execute_result"
    }
   ],
   "source": [
    "movies[:3] #fisrt 3 elements"
   ]
  },
  {
   "cell_type": "code",
   "execution_count": 75,
   "metadata": {},
   "outputs": [
    {
     "name": "stdout",
     "output_type": "stream",
     "text": [
      "['lionheart', 'Satya', 'The Message', 'Pakeezah', 'Mughleazam', 'Ghazal', 'Dosti', 'Raktchritr', 'Ocean11', 'Die Hard', 'Misl Yousuf', 'Pathan', 'Dark Knight', 'GodFather', '', '', '', '', '']\n"
     ]
    }
   ],
   "source": [
    "for i in range(5):\n",
    "    x = input()\n",
    "    movies.append(x) #can be written as movies.append.(input())\n",
    "print(movies)"
   ]
  },
  {
   "cell_type": "code",
   "execution_count": 76,
   "metadata": {},
   "outputs": [
    {
     "name": "stdout",
     "output_type": "stream",
     "text": [
      "['lionheart', 'Satya', 'The Message', 'Pakeezah', 'Mughleazam', 'Ghazal', 'Dosti', 'Raktchritr', 'Ocean11', 'Die Hard', 'Misl Yousuf', 'Pathan', 'Dark Knight', 'GodFather']\n"
     ]
    }
   ],
   "source": [
    "for i in range(5):\n",
    "    movies.remove('')\n",
    "print(movies)"
   ]
  },
  {
   "cell_type": "code",
   "execution_count": 77,
   "metadata": {},
   "outputs": [
    {
     "data": {
      "text/plain": [
       "'Die Hard'"
      ]
     },
     "execution_count": 77,
     "metadata": {},
     "output_type": "execute_result"
    }
   ],
   "source": [
    "movies[-5]"
   ]
  },
  {
   "cell_type": "code",
   "execution_count": 78,
   "metadata": {},
   "outputs": [
    {
     "data": {
      "text/plain": [
       "['Ghazal', 'Dosti', 'Raktchritr', 'Ocean11']"
      ]
     },
     "execution_count": 78,
     "metadata": {},
     "output_type": "execute_result"
    }
   ],
   "source": [
    "movies[5:-5] #start at index 5 and stop at index-5\n"
   ]
  },
  {
   "cell_type": "code",
   "execution_count": 79,
   "metadata": {},
   "outputs": [
    {
     "data": {
      "text/plain": [
       "['GodFather',\n",
       " 'Dark Knight',\n",
       " 'Pathan',\n",
       " 'Misl Yousuf',\n",
       " 'Die Hard',\n",
       " 'Ocean11',\n",
       " 'Raktchritr',\n",
       " 'Dosti',\n",
       " 'Ghazal',\n",
       " 'Mughleazam',\n",
       " 'Pakeezah',\n",
       " 'The Message',\n",
       " 'Satya',\n",
       " 'lionheart']"
      ]
     },
     "execution_count": 79,
     "metadata": {},
     "output_type": "execute_result"
    }
   ],
   "source": [
    "movies[::-1] # reverse thelist"
   ]
  },
  {
   "cell_type": "code",
   "execution_count": 80,
   "metadata": {},
   "outputs": [
    {
     "data": {
      "text/plain": [
       "['lionheart',\n",
       " 'The Message',\n",
       " 'Mughleazam',\n",
       " 'Dosti',\n",
       " 'Ocean11',\n",
       " 'Misl Yousuf',\n",
       " 'Dark Knight']"
      ]
     },
     "execution_count": 80,
     "metadata": {},
     "output_type": "execute_result"
    }
   ],
   "source": [
    "movies[::2] # every 2nd element"
   ]
  },
  {
   "attachments": {},
   "cell_type": "markdown",
   "metadata": {},
   "source": [
    "# Methods:\n",
    "- Adding:\n",
    "    - append()\n",
    "    - insert()\n",
    "    - extend()\n",
    "\n",
    "- Remove:\n",
    "    - remove()\n",
    "    - pop()\n",
    "    - clear()\n",
    "- Utilities:\n",
    "    - index()\n",
    "    - count()\n",
    "    - sort()\n",
    "    - reverse()\n",
    "    - copy()\n"
   ]
  },
  {
   "cell_type": "code",
   "execution_count": 81,
   "metadata": {},
   "outputs": [
    {
     "name": "stdout",
     "output_type": "stream",
     "text": [
      "[1, 2, 3]\n",
      "[1, 5, 2, 3]\n",
      "[1, 5, 2, 2.5, 3]\n",
      "[1, 5, 2, 100, 2.5, 3]\n"
     ]
    }
   ],
   "source": [
    "x = [1,2]\n",
    "x.append(3)\n",
    "print(x)\n",
    "x.insert(1,5) #insert 5 at idx 1 and shift rest of the elements\n",
    "print(x)\n",
    "x.insert(3, 2.5)\n",
    "print(x)\n",
    "x.insert(3, 100)\n",
    "print(x)\n",
    "\n"
   ]
  },
  {
   "cell_type": "code",
   "execution_count": 62,
   "metadata": {},
   "outputs": [
    {
     "name": "stdout",
     "output_type": "stream",
     "text": [
      "[1, 2, 3, 3, 4, 5]\n",
      "[1, 2, 3, 3, 4, 5, 3, 4, 5]\n"
     ]
    }
   ],
   "source": [
    "a = [1,2,3]\n",
    "b = [3,4,5]\n",
    "a + b # this will be lost\n",
    "#bogus method\n",
    "for i in b:\n",
    "    a.append(i)\n",
    "print(a)\n",
    "#best method:\n",
    "a.extend(b)\n",
    "print(a)"
   ]
  },
  {
   "attachments": {},
   "cell_type": "markdown",
   "metadata": {},
   "source": []
  },
  {
   "cell_type": "code",
   "execution_count": null,
   "metadata": {},
   "outputs": [],
   "source": []
  }
 ],
 "metadata": {
  "kernelspec": {
   "display_name": "base",
   "language": "python",
   "name": "python3"
  },
  "language_info": {
   "codemirror_mode": {
    "name": "ipython",
    "version": 3
   },
   "file_extension": ".py",
   "mimetype": "text/x-python",
   "name": "python",
   "nbconvert_exporter": "python",
   "pygments_lexer": "ipython3",
   "version": "3.9.12"
  },
  "orig_nbformat": 4,
  "vscode": {
   "interpreter": {
    "hash": "19d1d53a962d236aa061289c2ac16dc8e6d9648c89fe79f459ae9a3493bc67b4"
   }
  }
 },
 "nbformat": 4,
 "nbformat_minor": 2
}
